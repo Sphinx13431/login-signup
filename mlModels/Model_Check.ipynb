{
 "cells": [
  {
   "cell_type": "code",
   "execution_count": null,
   "metadata": {
    "executionInfo": {
     "elapsed": 7310,
     "status": "ok",
     "timestamp": 1741891641206,
     "user": {
      "displayName": "Liya Elizabeth Raju",
      "userId": "03598636694590858117"
     },
     "user_tz": -330
    },
    "id": "z5UqxpvwmgIj"
   },
   "outputs": [],
   "source": [
    "import tensorflow as tf\n",
    "from tensorflow import keras"
   ]
  },
  {
   "cell_type": "code",
   "execution_count": 17,
   "metadata": {
    "executionInfo": {
     "elapsed": 3,
     "status": "ok",
     "timestamp": 1741891641211,
     "user": {
      "displayName": "Liya Elizabeth Raju",
      "userId": "03598636694590858117"
     },
     "user_tz": -330
    },
    "id": "nJbDPDq3mlKM"
   },
   "outputs": [],
   "source": [
    "def load_and_prep_image(filename, img_shape=256, scale=True):\n",
    "  img = tf.io.read_file(filename)\n",
    "  img = tf.io.decode_image(img, channels=3)\n",
    "  img = tf.image.resize(img, [img_shape, img_shape])\n",
    "  if scale:\n",
    "    return img/255.\n",
    "  else:\n",
    "    return img"
   ]
  },
  {
   "cell_type": "code",
   "execution_count": null,
   "metadata": {
    "executionInfo": {
     "elapsed": 6983,
     "status": "ok",
     "timestamp": 1741891648197,
     "user": {
      "displayName": "Liya Elizabeth Raju",
      "userId": "03598636694590858117"
     },
     "user_tz": -330
    },
    "id": "73CKGUqenWyb"
   },
   "outputs": [],
   "source": [
    "new_model = tf.keras.models.load_model(\"mlModels/model_hand1\")"
   ]
  },
  {
   "cell_type": "code",
   "execution_count": 19,
   "metadata": {
    "executionInfo": {
     "elapsed": 14,
     "status": "ok",
     "timestamp": 1741891648210,
     "user": {
      "displayName": "Liya Elizabeth Raju",
      "userId": "03598636694590858117"
     },
     "user_tz": -330
    },
    "id": "JrJ0Zfmrn9HX"
   },
   "outputs": [],
   "source": [
    "class_names = [\"dyslexic\", \"normal\"]"
   ]
  },
  {
   "cell_type": "code",
   "execution_count": null,
   "metadata": {
    "colab": {
     "base_uri": "https://localhost:8080/"
    },
    "id": "vofJxxIjml47",
    "outputId": "d1fe22fe-dbf2-4482-d596-29c48ce1e05e"
   },
   "outputs": [
    {
     "name": "stdout",
     "output_type": "stream",
     "text": [
      "\u001b[1m1/1\u001b[0m \u001b[32m━━━━━━━━━━━━━━━━━━━━\u001b[0m\u001b[37m\u001b[0m \u001b[1m8s\u001b[0m 8s/step\n"
     ]
    },
    {
     "name": "stderr",
     "output_type": "stream",
     "text": [
      "WARNING:matplotlib.image:Clipping input data to the valid range for imshow with RGB data ([0..1] for floats or [0..255] for integers). Got range [0.24..1.0888889].\n"
     ]
    },
    {
     "name": "stdout",
     "output_type": "stream",
     "text": [
      "0\n"
     ]
    }
   ],
   "source": [
    "import os\n",
    "\n",
    "#ilename = random.choice(os.listdir(\"/content/drive/MyDrive/data/\" + class_name))\n",
    "#print(filename)\n",
    "filepath = \"/content/drive/MyDrive/fig1.png\"\n",
    "#filepath = \"/content/drive/MyDrive/data/\" + class_name + \"/\" + filename\n",
    "img = load_and_prep_image(filepath, scale=False)\n",
    "img_expanded = tf.expand_dims(img, axis=0)\n",
    "pred_prob = new_model.predict(img_expanded)\n",
    "pred_class = class_names[pred_prob.argmax()]\n",
    "prediction_x1=pred_prob.argmax()\n",
    "print(prediction_x1)"
   ]
  },
  {
   "cell_type": "code",
   "execution_count": null,
   "metadata": {
    "executionInfo": {
     "elapsed": 3,
     "status": "ok",
     "timestamp": 1741890845821,
     "user": {
      "displayName": "Liya Elizabeth Raju",
      "userId": "03598636694590858117"
     },
     "user_tz": -330
    },
    "id": "iQ9Cjo5r7PSf"
   },
   "outputs": [],
   "source": [
    "import pickle\n",
    "import pandas as pd\n"
   ]
  },
  {
   "cell_type": "code",
   "execution_count": null,
   "metadata": {
    "id": "oXHV9pHUxVaw"
   },
   "outputs": [],
   "source": []
  },
  {
   "cell_type": "code",
   "execution_count": null,
   "metadata": {
    "colab": {
     "base_uri": "https://localhost:8080/"
    },
    "executionInfo": {
     "elapsed": 4393,
     "status": "ok",
     "timestamp": 1741890850216,
     "user": {
      "displayName": "Liya Elizabeth Raju",
      "userId": "03598636694590858117"
     },
     "user_tz": -330
    },
    "id": "YnW076sU7Jqh",
    "outputId": "34e40caa-3686-40b1-8e95-7b482c63a970"
   },
   "outputs": [
    {
     "name": "stdout",
     "output_type": "stream",
     "text": [
      "Prediction: [3.]\n"
     ]
    },
    {
     "name": "stderr",
     "output_type": "stream",
     "text": [
      "/usr/local/lib/python3.11/dist-packages/sklearn/utils/validation.py:2739: UserWarning: X does not have valid feature names, but DecisionTreeClassifier was fitted with feature names\n",
      "  warnings.warn(\n"
     ]
    }
   ],
   "source": [
    "# Dyslexia score\n",
    "list1=[90,98.13,32.04,92.02,25.0]\n",
    "new_data = pd.DataFrame([list1])\n",
    "clf=pickle.load(open('mlModels/decision-tree-model1.pickle', 'rb'))\n",
    "prediction_x2 = clf.predict(new_data)\n",
    "print('Prediction:', prediction_x2)"
   ]
  },
  {
   "cell_type": "code",
   "execution_count": null,
   "metadata": {
    "colab": {
     "base_uri": "https://localhost:8080/"
    },
    "executionInfo": {
     "elapsed": 448,
     "status": "ok",
     "timestamp": 1741891587542,
     "user": {
      "displayName": "Liya Elizabeth Raju",
      "userId": "03598636694590858117"
     },
     "user_tz": -330
    },
    "id": "7YWWJTtT7ePI",
    "outputId": "43f6d013-3e47-4ca8-9937-cdaa35bc15bf"
   },
   "outputs": [
    {
     "name": "stdout",
     "output_type": "stream",
     "text": [
      "Prediction: [4.]\n"
     ]
    },
    {
     "name": "stderr",
     "output_type": "stream",
     "text": [
      "/usr/local/lib/python3.11/dist-packages/sklearn/utils/validation.py:2739: UserWarning: X does not have valid feature names, but DecisionTreeClassifier was fitted with feature names\n",
      "  warnings.warn(\n"
     ]
    }
   ],
   "source": [
    "# Dyslcalculia score\n",
    "list2 =[90,98.13,32.04,92.02,25.0]\n",
    "new_data = pd.DataFrame([list2])\n",
    "clf=pickle.load(open('mlModels/decision-tree.pickle', 'rb'))\n",
    "prediction_c1 = clf.predict(new_data)\n",
    "print('Prediction:', prediction_c1)"
   ]
  },
  {
   "cell_type": "code",
   "execution_count": null,
   "metadata": {
    "executionInfo": {
     "elapsed": 36,
     "status": "ok",
     "timestamp": 1741891620433,
     "user": {
      "displayName": "Liya Elizabeth Raju",
      "userId": "03598636694590858117"
     },
     "user_tz": -330
    },
    "id": "5Q35b3NTxWlk"
   },
   "outputs": [],
   "source": [
    "# Parents score\n",
    "prediction_x3= 23\n"
   ]
  },
  {
   "cell_type": "code",
   "execution_count": null,
   "metadata": {
    "executionInfo": {
     "elapsed": 2073,
     "status": "aborted",
     "timestamp": 1741891648504,
     "user": {
      "displayName": "Liya Elizabeth Raju",
      "userId": "03598636694590858117"
     },
     "user_tz": -330
    },
    "id": "ouqUkp1DytcT"
   },
   "outputs": [],
   "source": [
    "pred_x=(prediction_x1*4+prediction_x2+prediction_x3/3)/16\n",
    "pred_c=(prediction_c1)/4\n",
    "\n",
    "if pred_x>0.5:\n",
    "  pred_x=1\n",
    "else:\n",
    "  pred_x=0\n",
    "if pred_c>0.5:\n",
    "  pred_c=1\n",
    "else:\n",
    "  pred_c=0\n",
    "\n",
    "result=''\n",
    "if pred_x==1:\n",
    "  result=result+'Dyslexia'\n",
    "if pred_c==1:\n",
    "  result=result+' Dyslcalculia'\n",
    "print(result)"
   ]
  }
 ],
 "metadata": {
  "colab": {
   "authorship_tag": "ABX9TyM6cggQeCI4nJADiLJ0+hGe",
   "provenance": []
  },
  "kernelspec": {
   "display_name": "Python 3",
   "name": "python3"
  },
  "language_info": {
   "name": "python"
  }
 },
 "nbformat": 4,
 "nbformat_minor": 0
}
